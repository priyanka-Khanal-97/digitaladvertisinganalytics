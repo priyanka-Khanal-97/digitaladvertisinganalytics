{
 "cells": [
  {
   "cell_type": "code",
   "execution_count": 0,
   "metadata": {
    "colab": {
     "base_uri": "https://localhost:8080/",
     "height": 122
    },
    "colab_type": "code",
    "id": "ixV7Y15o0tcB",
    "outputId": "0b6e01ed-bcee-4439-ac54-71f41954444c"
   },
   "outputs": [
    {
     "name": "stdout",
     "output_type": "stream",
     "text": [
      "Go to this URL in a browser: https://accounts.google.com/o/oauth2/auth?client_id=947318989803-6bn6qk8qdgf4n4g3pfee6491hc0brc4i.apps.googleusercontent.com&redirect_uri=urn%3Aietf%3Awg%3Aoauth%3A2.0%3Aoob&scope=email%20https%3A%2F%2Fwww.googleapis.com%2Fauth%2Fdocs.test%20https%3A%2F%2Fwww.googleapis.com%2Fauth%2Fdrive%20https%3A%2F%2Fwww.googleapis.com%2Fauth%2Fdrive.photos.readonly%20https%3A%2F%2Fwww.googleapis.com%2Fauth%2Fpeopleapi.readonly&response_type=code\n",
      "\n",
      "Enter your authorization code:\n",
      "··········\n",
      "Mounted at /content/drive\n"
     ]
    }
   ],
   "source": [
    "import pandas as pd\n",
    "import seaborn as sns\n",
    "import numpy as np\n",
    "from google.colab import drive\n",
    "drive.mount('/content/drive')"
   ]
  },
  {
   "cell_type": "code",
   "execution_count": 0,
   "metadata": {
    "colab": {},
    "colab_type": "code",
    "id": "3HnLP2jp1D5q"
   },
   "outputs": [],
   "source": [
    "mainFile =pd.read_csv('drive/My Drive/Colab Notebooks/Travel Pony Facebook.csv')"
   ]
  },
  {
   "cell_type": "code",
   "execution_count": 0,
   "metadata": {
    "colab": {},
    "colab_type": "code",
    "id": "GB_2eIQo16wI"
   },
   "outputs": [],
   "source": [
    "mainFile['Cost per Impressions'] = mainFile['Amount Spent (USD)'] / mainFile['Impressions']"
   ]
  },
  {
   "cell_type": "code",
   "execution_count": 0,
   "metadata": {
    "colab": {
     "base_uri": "https://localhost:8080/",
     "height": 394
    },
    "colab_type": "code",
    "id": "HhYqqzeD21Hx",
    "outputId": "5f66f2e1-bc40-43d1-b50d-1fd9a0d54a49"
   },
   "outputs": [
    {
     "data": {
      "text/html": [
       "<div>\n",
       "<style scoped>\n",
       "    .dataframe tbody tr th:only-of-type {\n",
       "        vertical-align: middle;\n",
       "    }\n",
       "\n",
       "    .dataframe tbody tr th {\n",
       "        vertical-align: top;\n",
       "    }\n",
       "\n",
       "    .dataframe thead th {\n",
       "        text-align: right;\n",
       "    }\n",
       "</style>\n",
       "<table border=\"1\" class=\"dataframe\">\n",
       "  <thead>\n",
       "    <tr style=\"text-align: right;\">\n",
       "      <th></th>\n",
       "      <th>Start Date</th>\n",
       "      <th>End Date</th>\n",
       "      <th>Account</th>\n",
       "      <th>Campaign Name</th>\n",
       "      <th>Reach</th>\n",
       "      <th>Frequency</th>\n",
       "      <th>Impressions</th>\n",
       "      <th>Clicks</th>\n",
       "      <th>Unique Clicks</th>\n",
       "      <th>Amount Spent (USD)</th>\n",
       "      <th>Page Likes</th>\n",
       "      <th>Page Engagement</th>\n",
       "      <th>Post Engagement</th>\n",
       "      <th>Post Likes</th>\n",
       "      <th>Post Comments</th>\n",
       "      <th>Post Shares</th>\n",
       "      <th>Photo Views</th>\n",
       "      <th>Website Clicks</th>\n",
       "      <th>Cost per Page Like (USD)</th>\n",
       "      <th>Cost per Page Engagement (USD)</th>\n",
       "      <th>Cost per Impressions</th>\n",
       "      <th>day_of_week</th>\n",
       "    </tr>\n",
       "  </thead>\n",
       "  <tbody>\n",
       "    <tr>\n",
       "      <th>0</th>\n",
       "      <td>2013-12-02</td>\n",
       "      <td>2013-12-02</td>\n",
       "      <td>Bob Jackson</td>\n",
       "      <td>Cyber Weekend</td>\n",
       "      <td>278117</td>\n",
       "      <td>2.314303</td>\n",
       "      <td>643647</td>\n",
       "      <td>336</td>\n",
       "      <td>313</td>\n",
       "      <td>300.00</td>\n",
       "      <td>3</td>\n",
       "      <td>246</td>\n",
       "      <td>243</td>\n",
       "      <td>0</td>\n",
       "      <td>0</td>\n",
       "      <td>0</td>\n",
       "      <td>0</td>\n",
       "      <td>243</td>\n",
       "      <td>100.00</td>\n",
       "      <td>1.219512</td>\n",
       "      <td>0.000466</td>\n",
       "      <td>Monday</td>\n",
       "    </tr>\n",
       "    <tr>\n",
       "      <th>1</th>\n",
       "      <td>2013-12-01</td>\n",
       "      <td>2013-12-01</td>\n",
       "      <td>Bob Jackson</td>\n",
       "      <td>Cyber Weekend</td>\n",
       "      <td>221255</td>\n",
       "      <td>2.079090</td>\n",
       "      <td>460009</td>\n",
       "      <td>376</td>\n",
       "      <td>348</td>\n",
       "      <td>300.00</td>\n",
       "      <td>6</td>\n",
       "      <td>215</td>\n",
       "      <td>209</td>\n",
       "      <td>0</td>\n",
       "      <td>0</td>\n",
       "      <td>0</td>\n",
       "      <td>0</td>\n",
       "      <td>209</td>\n",
       "      <td>50.00</td>\n",
       "      <td>1.395349</td>\n",
       "      <td>0.000652</td>\n",
       "      <td>Sunday</td>\n",
       "    </tr>\n",
       "    <tr>\n",
       "      <th>2</th>\n",
       "      <td>2013-11-30</td>\n",
       "      <td>2013-11-30</td>\n",
       "      <td>Bob Jackson</td>\n",
       "      <td>Cyber Weekend</td>\n",
       "      <td>267915</td>\n",
       "      <td>2.499069</td>\n",
       "      <td>669538</td>\n",
       "      <td>383</td>\n",
       "      <td>345</td>\n",
       "      <td>300.00</td>\n",
       "      <td>2</td>\n",
       "      <td>252</td>\n",
       "      <td>250</td>\n",
       "      <td>0</td>\n",
       "      <td>0</td>\n",
       "      <td>0</td>\n",
       "      <td>0</td>\n",
       "      <td>250</td>\n",
       "      <td>150.00</td>\n",
       "      <td>1.190476</td>\n",
       "      <td>0.000448</td>\n",
       "      <td>Saturday</td>\n",
       "    </tr>\n",
       "    <tr>\n",
       "      <th>3</th>\n",
       "      <td>2013-11-29</td>\n",
       "      <td>2013-11-29</td>\n",
       "      <td>Bob Jackson</td>\n",
       "      <td>Cyber Weekend</td>\n",
       "      <td>280332</td>\n",
       "      <td>2.365406</td>\n",
       "      <td>663099</td>\n",
       "      <td>301</td>\n",
       "      <td>275</td>\n",
       "      <td>300.00</td>\n",
       "      <td>3</td>\n",
       "      <td>257</td>\n",
       "      <td>254</td>\n",
       "      <td>0</td>\n",
       "      <td>0</td>\n",
       "      <td>0</td>\n",
       "      <td>0</td>\n",
       "      <td>254</td>\n",
       "      <td>100.00</td>\n",
       "      <td>1.167315</td>\n",
       "      <td>0.000452</td>\n",
       "      <td>Friday</td>\n",
       "    </tr>\n",
       "    <tr>\n",
       "      <th>4</th>\n",
       "      <td>2013-11-22</td>\n",
       "      <td>2013-11-22</td>\n",
       "      <td>Bob Jackson</td>\n",
       "      <td>TravelPony: General Ads</td>\n",
       "      <td>14269</td>\n",
       "      <td>1.000420</td>\n",
       "      <td>14275</td>\n",
       "      <td>64</td>\n",
       "      <td>61</td>\n",
       "      <td>35.18</td>\n",
       "      <td>2</td>\n",
       "      <td>14</td>\n",
       "      <td>12</td>\n",
       "      <td>0</td>\n",
       "      <td>0</td>\n",
       "      <td>0</td>\n",
       "      <td>0</td>\n",
       "      <td>12</td>\n",
       "      <td>17.59</td>\n",
       "      <td>2.512857</td>\n",
       "      <td>0.002464</td>\n",
       "      <td>Friday</td>\n",
       "    </tr>\n",
       "  </tbody>\n",
       "</table>\n",
       "</div>"
      ],
      "text/plain": [
       "  Start Date    End Date  ... Cost per Impressions day_of_week\n",
       "0 2013-12-02  2013-12-02  ...             0.000466      Monday\n",
       "1 2013-12-01  2013-12-01  ...             0.000652      Sunday\n",
       "2 2013-11-30  2013-11-30  ...             0.000448    Saturday\n",
       "3 2013-11-29  2013-11-29  ...             0.000452      Friday\n",
       "4 2013-11-22  2013-11-22  ...             0.002464      Friday\n",
       "\n",
       "[5 rows x 22 columns]"
      ]
     },
     "execution_count": 30,
     "metadata": {
      "tags": []
     },
     "output_type": "execute_result"
    }
   ],
   "source": [
    "mainFile['Start Date'] = pd.to_datetime(mainFile['Start Date'])\n",
    "mainFile['day_of_week'] = mainFile['Start Date'].dt.day_name()\n",
    "mainFile.head()"
   ]
  },
  {
   "cell_type": "code",
   "execution_count": 0,
   "metadata": {
    "colab": {
     "base_uri": "https://localhost:8080/",
     "height": 297
    },
    "colab_type": "code",
    "id": "8RD_BmRE4CdZ",
    "outputId": "f88de68a-3118-4406-b3be-a65a51e44077"
   },
   "outputs": [
    {
     "data": {
      "text/html": [
       "<div>\n",
       "<style scoped>\n",
       "    .dataframe tbody tr th:only-of-type {\n",
       "        vertical-align: middle;\n",
       "    }\n",
       "\n",
       "    .dataframe tbody tr th {\n",
       "        vertical-align: top;\n",
       "    }\n",
       "\n",
       "    .dataframe thead th {\n",
       "        text-align: right;\n",
       "    }\n",
       "</style>\n",
       "<table border=\"1\" class=\"dataframe\">\n",
       "  <thead>\n",
       "    <tr style=\"text-align: right;\">\n",
       "      <th></th>\n",
       "      <th>Cost per Impressions</th>\n",
       "    </tr>\n",
       "    <tr>\n",
       "      <th>day_of_week</th>\n",
       "      <th></th>\n",
       "    </tr>\n",
       "  </thead>\n",
       "  <tbody>\n",
       "    <tr>\n",
       "      <th>Friday</th>\n",
       "      <td>0.004097</td>\n",
       "    </tr>\n",
       "    <tr>\n",
       "      <th>Monday</th>\n",
       "      <td>0.002910</td>\n",
       "    </tr>\n",
       "    <tr>\n",
       "      <th>Saturday</th>\n",
       "      <td>0.002629</td>\n",
       "    </tr>\n",
       "    <tr>\n",
       "      <th>Sunday</th>\n",
       "      <td>0.003688</td>\n",
       "    </tr>\n",
       "    <tr>\n",
       "      <th>Thursday</th>\n",
       "      <td>0.003398</td>\n",
       "    </tr>\n",
       "    <tr>\n",
       "      <th>Tuesday</th>\n",
       "      <td>0.003040</td>\n",
       "    </tr>\n",
       "    <tr>\n",
       "      <th>Wednesday</th>\n",
       "      <td>0.002981</td>\n",
       "    </tr>\n",
       "  </tbody>\n",
       "</table>\n",
       "</div>"
      ],
      "text/plain": [
       "             Cost per Impressions\n",
       "day_of_week                      \n",
       "Friday                   0.004097\n",
       "Monday                   0.002910\n",
       "Saturday                 0.002629\n",
       "Sunday                   0.003688\n",
       "Thursday                 0.003398\n",
       "Tuesday                  0.003040\n",
       "Wednesday                0.002981"
      ]
     },
     "execution_count": 34,
     "metadata": {
      "tags": []
     },
     "output_type": "execute_result"
    }
   ],
   "source": [
    "mainFile.groupby('day_of_week').mean()[['Cost per Impressions']]"
   ]
  },
  {
   "cell_type": "markdown",
   "metadata": {
    "colab_type": "text",
    "id": "Mp4yJXXPCmGP"
   },
   "source": [
    "The cheapest day to generate impressions is Saturday and the worst day to generate impressions is Friday."
   ]
  },
  {
   "cell_type": "code",
   "execution_count": 0,
   "metadata": {
    "colab": {
     "base_uri": "https://localhost:8080/",
     "height": 80
    },
    "colab_type": "code",
    "id": "tB00fggb4r68",
    "outputId": "db31ddff-d0b4-42c7-db1d-5036a3b54bda"
   },
   "outputs": [
    {
     "data": {
      "text/html": [
       "<div>\n",
       "<style scoped>\n",
       "    .dataframe tbody tr th:only-of-type {\n",
       "        vertical-align: middle;\n",
       "    }\n",
       "\n",
       "    .dataframe tbody tr th {\n",
       "        vertical-align: top;\n",
       "    }\n",
       "\n",
       "    .dataframe thead th {\n",
       "        text-align: right;\n",
       "    }\n",
       "</style>\n",
       "<table border=\"1\" class=\"dataframe\">\n",
       "  <thead>\n",
       "    <tr style=\"text-align: right;\">\n",
       "      <th></th>\n",
       "      <th>Amount Spent (USD)</th>\n",
       "      <th>Frequency</th>\n",
       "      <th>Reach</th>\n",
       "      <th>Unique Clicks</th>\n",
       "      <th>Page Likes</th>\n",
       "    </tr>\n",
       "  </thead>\n",
       "  <tbody>\n",
       "    <tr>\n",
       "      <th>Amount Spent (USD)</th>\n",
       "      <td>1.0</td>\n",
       "      <td>0.130201</td>\n",
       "      <td>0.703124</td>\n",
       "      <td>0.882993</td>\n",
       "      <td>0.757612</td>\n",
       "    </tr>\n",
       "  </tbody>\n",
       "</table>\n",
       "</div>"
      ],
      "text/plain": [
       "                    Amount Spent (USD)  Frequency  ...  Unique Clicks  Page Likes\n",
       "Amount Spent (USD)                 1.0   0.130201  ...       0.882993    0.757612\n",
       "\n",
       "[1 rows x 5 columns]"
      ]
     },
     "execution_count": 25,
     "metadata": {
      "tags": []
     },
     "output_type": "execute_result"
    }
   ],
   "source": [
    " correlationTable= mainFile[['Amount Spent (USD)','Frequency','Reach','Unique Clicks','Page Likes']].corr()\n",
    " correlationTable.head(1)"
   ]
  },
  {
   "cell_type": "markdown",
   "metadata": {
    "colab_type": "text",
    "id": "5HFWKmUK7Q8C"
   },
   "source": [
    "The amount spend has the strongest correaltion with Unique clicks which means when there is a rise in unique clicks, the amount spent also increases. "
   ]
  },
  {
   "cell_type": "code",
   "execution_count": 0,
   "metadata": {
    "colab": {
     "base_uri": "https://localhost:8080/",
     "height": 476
    },
    "colab_type": "code",
    "id": "e21-_sjr6mIY",
    "outputId": "4ce9b8ea-9ca1-455c-94de-914b286ced4e"
   },
   "outputs": [
    {
     "name": "stdout",
     "output_type": "stream",
     "text": [
      "                                 OLS Regression Results                                \n",
      "=======================================================================================\n",
      "Dep. Variable:          Unique Clicks   R-squared (uncentered):                   0.557\n",
      "Model:                            OLS   Adj. R-squared (uncentered):              0.556\n",
      "Method:                 Least Squares   F-statistic:                              2325.\n",
      "Date:                Sun, 10 Nov 2019   Prob (F-statistic):                        0.00\n",
      "Time:                        20:34:59   Log-Likelihood:                         -15973.\n",
      "No. Observations:                3705   AIC:                                  3.195e+04\n",
      "Df Residuals:                    3703   BIC:                                  3.196e+04\n",
      "Df Model:                           2                                                  \n",
      "Covariance Type:            nonrobust                                                  \n",
      "==============================================================================\n",
      "                 coef    std err          t      P>|t|      [0.025      0.975]\n",
      "------------------------------------------------------------------------------\n",
      "Frequency      3.6139      0.298     12.109      0.000       3.029       4.199\n",
      "Reach          0.0019   3.12e-05     62.490      0.000       0.002       0.002\n",
      "==============================================================================\n",
      "Omnibus:                     5107.616   Durbin-Watson:                   0.803\n",
      "Prob(Omnibus):                  0.000   Jarque-Bera (JB):          5128392.747\n",
      "Skew:                           7.331   Prob(JB):                         0.00\n",
      "Kurtosis:                     184.674   Cond. No.                     9.84e+03\n",
      "==============================================================================\n",
      "\n",
      "Warnings:\n",
      "[1] Standard Errors assume that the covariance matrix of the errors is correctly specified.\n",
      "[2] The condition number is large, 9.84e+03. This might indicate that there are\n",
      "strong multicollinearity or other numerical problems.\n"
     ]
    }
   ],
   "source": [
    "import statsmodels.api as sm\n",
    "target = mainFile ['Unique Clicks']\n",
    "dep = mainFile [[ 'Frequency','Reach']] \n",
    "mod = sm.OLS(target, dep)\n",
    "res = mod.fit()\n",
    "print(res.summary())"
   ]
  },
  {
   "cell_type": "markdown",
   "metadata": {
    "colab_type": "text",
    "id": "fRn0H22co_IT"
   },
   "source": [
    "Frequency predicts the unique clicks most strongly as it has the higher slope. This basically means higher the frequency, higher the rate of change in unique clicks"
   ]
  }
 ],
 "metadata": {
  "colab": {
   "collapsed_sections": [],
   "name": "Python_Basics.ipynb",
   "provenance": []
  },
  "kernelspec": {
   "display_name": "Python 3",
   "language": "python",
   "name": "python3"
  },
  "language_info": {
   "codemirror_mode": {
    "name": "ipython",
    "version": 3
   },
   "file_extension": ".py",
   "mimetype": "text/x-python",
   "name": "python",
   "nbconvert_exporter": "python",
   "pygments_lexer": "ipython3",
   "version": "3.7.2"
  }
 },
 "nbformat": 4,
 "nbformat_minor": 1
}
